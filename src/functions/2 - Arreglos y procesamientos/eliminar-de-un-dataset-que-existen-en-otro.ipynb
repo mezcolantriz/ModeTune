{
 "cells": [
  {
   "cell_type": "code",
   "execution_count": 3,
   "metadata": {},
   "outputs": [],
   "source": [
    "import pandas as pd\n",
    "from typing import Tuple"
   ]
  },
  {
   "cell_type": "markdown",
   "metadata": {},
   "source": [
    "Esta función compara los registros de dos datasets A y B basándonos en columnas clave como `artist_name`, `song_name` o `recording_id`. Luego elimina del dataset A los registros que ya existen en B. \n",
    "\n",
    "Es útil por ejemplo para limpiar registros que ya hemos procesado de datasets de los que vamos a continuar buscando información para no volver a hacer requests sobre datos que ya tenemos, ahorrar tiempo y prevenir duplicados."
   ]
  },
  {
   "cell_type": "code",
   "execution_count": 4,
   "metadata": {},
   "outputs": [],
   "source": [
    "d1 = pd.read_csv('../data/processed/new_not_found_ids.csv.temp')\n",
    "d2 = pd.read_csv('../data/processed/new_songs_with_ids.csv.temp')"
   ]
  },
  {
   "cell_type": "markdown",
   "metadata": {},
   "source": [
    "# Ejemplo de uso de la función para eliminar de un dataset A los datos que ya existen en un dataset B\n",
    "\n",
    "Llamamos a los datasets que vamos a comparar\n",
    "`dataset_a = pd.read_csv('ruta_a_dataset_a.csv')` \n",
    "`dataset_b = pd.read_csv('ruta_a_dataset_b.csv')`\n",
    "\n",
    "Añadimos al array las columnas en las que queremos basar la comparación\n",
    "`key_columns = ['song_name', 'artist_name']` \n",
    "\n",
    "Ejecutamos la función de esta manera\n",
    "`updated_dataset_a, removed_count = remove_existing_records(dataset_a, dataset_b, key_columns)` \n",
    "\n",
    "`removed_count` Será el número de columnas eliminadas de A\n",
    "\n",
    "`updated_dataset_a` Será el resultado del dataset_a con los registros actualizados. Podemos guardarlo con `updated_dataset_a.tocsv('ruta_del_csv.csv')`"
   ]
  },
  {
   "cell_type": "markdown",
   "metadata": {},
   "source": [
    "# Función para eliminar de un dataset A los datos que ya existen en un dataset B"
   ]
  },
  {
   "cell_type": "code",
   "execution_count": 7,
   "metadata": {},
   "outputs": [],
   "source": [
    "def remove_existing_records(dataset_a: pd.DataFrame, dataset_b: pd.DataFrame, key_columns: list) -> Tuple[pd.DataFrame, int]:\n",
    "    if not all(column in dataset_a.columns for column in key_columns):\n",
    "        raise ValueError(\"Algunas columnas clave no están presentes en dataset_a.\")\n",
    "    if not all(column in dataset_b.columns for column in key_columns):\n",
    "        raise ValueError(\"Algunas columnas clave no están presentes en dataset_b.\")\n",
    "\n",
    "    # Crear un DataFrame de comparación solo con las columnas clave\n",
    "    b_subset = dataset_b[key_columns]\n",
    "\n",
    "    # Crear una máscara para identificar registros en A que también están en B\n",
    "    is_in_b = dataset_a[key_columns].apply(tuple, axis=1).isin(b_subset.apply(tuple, axis=1))\n",
    "\n",
    "    # Contar el número de registros eliminados\n",
    "    num_removed = is_in_b.sum()\n",
    "\n",
    "    # Filtrar dataset_a para eliminar registros que están en B\n",
    "    updated_dataset_a = dataset_a[~is_in_b]\n",
    "\n",
    "    return updated_dataset_a, num_removed"
   ]
  },
  {
   "cell_type": "markdown",
   "metadata": {},
   "source": [
    "# Comparar datasets"
   ]
  },
  {
   "cell_type": "code",
   "execution_count": null,
   "metadata": {},
   "outputs": [],
   "source": [
    "df_A = pd.read_csv('ruta_dataset_a.csv')\n",
    "df_B = pd.read_csv('ruta_dataset_b.csv')\n",
    "key_columns = ['song_name', 'artist_name'] # Podemos cambiarlo por key_columns = ['recording_id'] si ambos datasets que queremos comparar lo tienen, ya que será más fiable"
   ]
  },
  {
   "cell_type": "code",
   "execution_count": 10,
   "metadata": {},
   "outputs": [],
   "source": [
    "updated_dataset_a, removed_count = remove_existing_records(df_A, df_B, key_columns)"
   ]
  },
  {
   "cell_type": "code",
   "execution_count": 11,
   "metadata": {},
   "outputs": [
    {
     "name": "stdout",
     "output_type": "stream",
     "text": [
      "Columnas eliminadas: 15570\n"
     ]
    }
   ],
   "source": [
    "print(f\"Columnas eliminadas: {removed_count}\")"
   ]
  },
  {
   "cell_type": "code",
   "execution_count": null,
   "metadata": {},
   "outputs": [],
   "source": [
    "updated_dataset_a"
   ]
  },
  {
   "cell_type": "code",
   "execution_count": 17,
   "metadata": {},
   "outputs": [],
   "source": [
    "# Podemos guardar el dataset actualizado o reemplazar el anterior dataset A con él poniendo la misma ruta\n",
    "updated_dataset_a.to_csv('ruta_a_tu_dataset.csv')"
   ]
  }
 ],
 "metadata": {
  "kernelspec": {
   "display_name": "Python 3",
   "language": "python",
   "name": "python3"
  },
  "language_info": {
   "codemirror_mode": {
    "name": "ipython",
    "version": 3
   },
   "file_extension": ".py",
   "mimetype": "text/x-python",
   "name": "python",
   "nbconvert_exporter": "python",
   "pygments_lexer": "ipython3",
   "version": "3.11.9"
  }
 },
 "nbformat": 4,
 "nbformat_minor": 2
}
