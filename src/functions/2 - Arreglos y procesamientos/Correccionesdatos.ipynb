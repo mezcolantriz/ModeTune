{
 "cells": [
  {
   "cell_type": "code",
   "execution_count": 1,
   "metadata": {},
   "outputs": [
    {
     "name": "stdout",
     "output_type": "stream",
     "text": [
      "0\n"
     ]
    }
   ],
   "source": [
    "# chequear duplicados de recording_id en final_df.csv\n",
    "import pandas as pd\n",
    "csv_file_path = r\"C:\\Users\\solan\\Downloads\\get_data_from_songs\\src\\final_df_.csv\"\n",
    "df = pd.read_csv(csv_file_path)\n",
    "print(df.duplicated(subset=['recording_id']).sum())\n"
   ]
  },
  {
   "cell_type": "code",
   "execution_count": null,
   "metadata": {},
   "outputs": [
    {
     "name": "stdout",
     "output_type": "stream",
     "text": [
      "✅ ¡Letra actualizada correctamente usando el recording_id!\n"
     ]
    }
   ],
   "source": [
    "import pandas as pd\n",
    "\n",
    "csv_file_path = r\"C:\\Users\\solan\\Downloads\\get_data_from_songs\\src\\final_df_.csv\"\n",
    "\n",
    "df = pd.read_csv(csv_file_path)\n",
    "\n",
    "id_recording_to_fix = \"d6bce9f0-f91e-4225-8011-679b0eb4257a\"\n",
    "\n",
    "# Letra corregida en el formato adecuado\n",
    "correct_lyrics = \"\"\"\n",
    "Today I'm going partying, partying with your juda I don't want to fight with you Why do you want to fight with me? No What do you want from me? Why don't you trust me? I have nothing to explain to you I have nothing to hide from you I want my freedom Ah! Every day with the same thing I think my gial has already gone crazy Always calls me Say where are you And when I leave home Say where are you going You are my wife, you are not my mother When you go out with your friend, I don't say anything So stop stressing me out Stop bothering me You want me to live like a prisoner When you knew me as a party-goer Let me enjoy, mommy, I love you Let me enjoy, I'll come back later I want my freedom Give me my freedom I want to dance, dance, dance Let me dance, dance, dance Oh my freedom I want my freedom Give me my freedom I want to dance, dance, dance Let me dance, dance, dance Oh oh Calm down Because it's stressing me out, if you're my baby I only go for disco and reggae Park with my friends and feel good Mommy, so it is That's why your ex left you and left And don't be spying on me on the internet Now when I come back I'm going to see you I went partying Suddenly we all started dancing zumba And now there is death marking on my grave Now everyone dances like cumbia I want my freedom Give me my freedom I want to dance, dance, dance Let me dance, dance, dance Ooohhh my freedom I want my freedom Give me my freedom I want to dance, dance, dance Let me dance, dance, dance Oh What happened between you and me (what happened mommy) Suddenly everything changed (you have changed, you were not like that before) You always want to be in control (You are the one who is asking me everything, where am I going) I don't know what you want from me (what you want) I don't want to continue like this (but you are continuing like this, my love, listen) Mommy, you have no control (mommy, leave me alone) You're going to stay alone, if you keep jealous of me Mommy you keep suffocating me You keep calling me every little while, I'm sure you're making something up I only go to the club to drink and drink Your friends take photos whenever they see me They send it to you and say, look, look, puej If you don't believe in me, what can be done? Today I'm going partying, partying with your juda I don't want to fight with you Why do you want to fight with me? No What do you want from me? Why don't you trust me? I have nothing to explain to you I have nothing to hide from you I want my freedom Give me my freedom I want to dance\n",
    "\"\"\"\n",
    "formatted_lyrics = \" \".join(correct_lyrics.splitlines()).strip()\n",
    "\n",
    "# ▶ Reemplazar la letra usando el 'id_recording'\n",
    "df.loc[df['recording_id'] == id_recording_to_fix, 'processed_lyrics'] = formatted_lyrics\n",
    "\n",
    "# ▶ Guardar el DataFrame de nuevo al CSV\n",
    "df.to_csv(csv_file_path, index=False)\n",
    "\n",
    "print(\"✅ ¡Letra actualizada correctamente usando el recording_id!\")\n"
   ]
  },
  {
   "cell_type": "code",
   "execution_count": null,
   "metadata": {},
   "outputs": [],
   "source": [
    "import pandas as pd\n",
    "\n",
    "# 📌 Ruta del archivo CSV con los datos\n",
    "csv_file = r\"C:\\Users\\solan\\Downloads\\get_data_from_songs\\src\\final_df_.csv\"\n",
    "\n",
    "# 📌 Cargar el dataset\n",
    "df = pd.read_csv(csv_file)\n",
    "\n",
    "\n",
    "# 📌 Buscar la canción incorrecta\n",
    "mask = (df['artist_name'].str.lower() == \"the black keys\") & (df['song_name'].str.lower() == \"have love will travel radio edit\")\n",
    "\n",
    "\n",
    "# 📌 Verificar si existe en el dataset\n",
    "if df[mask].empty:\n",
    "    print(\"❌ No se encontró la canción en el dataset. Revisa el nombre exacto.\")\n",
    "else:\n",
    "    # 📌 Nueva URL de Spotify corregida\n",
    "    new_spotify_url = \"https://open.spotify.com/intl-es/track/46XzvI0GXvRwK7LV6vdn2v\"\n",
    "\n",
    "    # 📌 Actualizar la URL en el dataset\n",
    "    df.loc[mask, 'spotify_url'] = new_spotify_url\n",
    "\n",
    "    # 📌 Guardar el CSV actualizado\n",
    "    df.to_csv(csv_file, index=False)\n",
    "    print(\"✅ URL de Spotify actualizada correctamente.\")\n"
   ]
  },
  {
   "cell_type": "code",
   "execution_count": 3,
   "metadata": {},
   "outputs": [
    {
     "name": "stdout",
     "output_type": "stream",
     "text": [
      "✅ Letra actualizada con éxito en el archivo CSV, manteniendo el formato correcto.\n"
     ]
    }
   ],
   "source": [
    "import pandas as pd\n",
    "\n",
    "# 📌 Ruta del archivo CSV\n",
    "file_path = r\"C:\\Users\\solan\\Downloads\\get_data_from_songs\\src\\final_df.csv\"\n",
    "\n",
    "# 📌 Cargar el DataFrame\n",
    "df = pd.read_csv(file_path)\n",
    "\n",
    "# 📌 Especificar la canción y el artista que queremos modificar\n",
    "song_name = \"australia\"\n",
    "artist_name = \"conner youngblood\"\n",
    "\n",
    "# 📌 Nueva letra corregida (SIN SALTOS DE LÍNEA)\n",
    "corrected_lyrics = \"\"\"You wake up in a dead town You're sleeping with the windows locked Misguided by your own trail You're lost You focused on the features You followed every movement, stroke You start around the centre You choke And it goes on easily And it falters repeatedly But it don't bother me you see No, it don't bother me at all Asleep beneath the oak tree You hear your friends scream out your name It's an hour past the deadline You're late There's a fault between the bloodlines Australia starts to shake You can pick up where you left off You wait And it goes on easily And if all turns repeatedly But it don't bother me you see No, it don't bother me you see And it goes on easily And if all turns repeatedly But it don't bother me you see No, it don't bother me at all\"\"\"\n",
    "\n",
    "# 📌 Asegurar que la letra tenga el mismo formato (sin saltos de línea)\n",
    "formatted_lyrics = corrected_lyrics.replace(\"\\n\", \" \")\n",
    "\n",
    "# 📌 Buscar la canción y actualizar la letra\n",
    "df.loc[(df['song_name'].str.lower() == song_name) & (df['artist_name'].str.lower() == artist_name), 'processed_lyrics'] = formatted_lyrics\n",
    "\n",
    "# 📌 Guardar los cambios sin alterar el resto de los datos\n",
    "df.to_csv(file_path, index=False)\n",
    "\n",
    "print(\"✅ Letra actualizada con éxito en el archivo CSV, manteniendo el formato correcto.\")\n"
   ]
  },
  {
   "cell_type": "code",
   "execution_count": 4,
   "metadata": {},
   "outputs": [
    {
     "name": "stdout",
     "output_type": "stream",
     "text": [
      "✅ Letra de 'Only U' actualizada con éxito en el archivo CSV, manteniendo el formato correcto.\n"
     ]
    }
   ],
   "source": [
    "import pandas as pd\n",
    "\n",
    "# 📌 Ruta del archivo CSV\n",
    "file_path = r\"C:\\Users\\solan\\Downloads\\get_data_from_songs\\src\\final_df.csv\"\n",
    "\n",
    "# 📌 Cargar el DataFrame\n",
    "df = pd.read_csv(file_path)\n",
    "\n",
    "# 📌 Especificar la canción y el artista que queremos modificar\n",
    "song_name = \"only u\"\n",
    "artist_name = \"partynextdoor\"\n",
    "\n",
    "# 📌 Nueva letra corregida (SIN SALTOS DE LÍNEA)\n",
    "corrected_lyrics = \"\"\"PARTY Why did you go? Where did you take my love? Left me alone You left me abandoned Girl, 'cause if it's passion that you want Gave it to you thousands on thousands of times over You said that my love get you drunk We made love every night, never let you stay sober Oh, you wan fi pin the blame pon me like a poster You thinks that you a spy but me no know her Girl if I didn't want you woulda let you go Woulda let you know Stop the confusion Stop the illusion It's only you on my mind It's only you all the time And I need you to stop the accusations My lovin' is real life, no animation Determined to love you long, I need patience Girl, how many times, say how many times I have to say it's only you Yeah, baby, it's only you Yeah, baby, it's only you Yeah, baby, it's only you, oh Nobody gon' catch my eye Girl, it's only you and I Believe me, babe No girl gon' get my love No girl gon' get no trust Believe me, babe Why lie about the way I feel about my baby? My little baby Uh, the kissin' ain't nothin' without the passion All I see talkin' and I need action No gimme nah half 'cause I don't need no fraction Just wanna wake in the mornin' with you beside me With all of our problems behind me It was like yesterday with my baby And now you could dance with anybody Because you think I'm with anybody Mi body can't do it just for anybody Mi body can't lose just anybody I only want Only you Yeah, baby, it's only you Yeah, baby, it's only you Yeah, baby, it's only you, oh Nobody can catch my eye Girl it's only you and I Believe me babe No girl gon' get my love No girl gon' get no trust Oh, trust me\"\"\"\n",
    "\n",
    "# 📌 Asegurar que la letra tenga el mismo formato (sin saltos de línea)\n",
    "formatted_lyrics = corrected_lyrics.replace(\"\\n\", \" \")\n",
    "\n",
    "# 📌 Buscar la canción y actualizar la letra\n",
    "df.loc[(df['song_name'].str.lower() == song_name) & (df['artist_name'].str.lower() == artist_name), 'processed_lyrics'] = formatted_lyrics\n",
    "\n",
    "# 📌 Guardar los cambios sin alterar el resto de los datos\n",
    "df.to_csv(file_path, index=False)\n",
    "\n",
    "print(\"✅ Letra de 'Only U' actualizada con éxito en el archivo CSV, manteniendo el formato correcto.\")\n"
   ]
  }
 ],
 "metadata": {
  "kernelspec": {
   "display_name": "Python 3",
   "language": "python",
   "name": "python3"
  },
  "language_info": {
   "codemirror_mode": {
    "name": "ipython",
    "version": 3
   },
   "file_extension": ".py",
   "mimetype": "text/x-python",
   "name": "python",
   "nbconvert_exporter": "python",
   "pygments_lexer": "ipython3",
   "version": "3.11.9"
  }
 },
 "nbformat": 4,
 "nbformat_minor": 2
}
