{
 "cells": [
  {
   "cell_type": "markdown",
   "metadata": {},
   "source": [
    "# Descripción del Notebook\n",
    "\n",
    "## Objetivo del Notebook\n",
    "\n",
    "Procesar y corregir los errores en los datos de canciones.\n",
    "\n",
    "## Pasos Realizados\n",
    "\n",
    "1. **Importación de Librerías**:\n",
    "    - Importamos las librerías necesarias (`pandas`, `ipywidgets`).\n",
    "\n",
    "2. **Cargar Datos**:\n",
    "    - Cargamos los datos de canciones con errores desde un archivo CSV.\n",
    "    - Verificamos si existen correcciones previas y las cargamos.\n",
    "\n",
    "3. **Filtrar Datos**:\n",
    "    - Filtramos las canciones que aún no han sido corregidas.\n",
    "\n",
    "4. **Interfaz de Corrección**:\n",
    "    - Utilizamos `ipywidgets` para crear una interfaz interactiva que permite seleccionar una canción, ver sus detalles y corregir errores en la URL de Spotify y las letras.\n",
    "\n",
    "5. **Guardar Correcciones**:\n",
    "    - Guardamos las correcciones realizadas en un nuevo archivo CSV.\n",
    "\n",
    "## Conclusión\n",
    "\n",
    "Este notebook proporciona una herramienta interactiva para corregir errores en los datos de canciones, asegurando que los datos estén limpios y listos para su uso posterior."
   ]
  },
  {
   "cell_type": "code",
   "execution_count": 9,
   "metadata": {},
   "outputs": [
    {
     "name": "stdout",
     "output_type": "stream",
     "text": [
      "📌 Se encontraron 1 correcciones previas.\n"
     ]
    },
    {
     "data": {
      "text/html": [
       "<div>\n",
       "<style scoped>\n",
       "    .dataframe tbody tr th:only-of-type {\n",
       "        vertical-align: middle;\n",
       "    }\n",
       "\n",
       "    .dataframe tbody tr th {\n",
       "        vertical-align: top;\n",
       "    }\n",
       "\n",
       "    .dataframe thead th {\n",
       "        text-align: right;\n",
       "    }\n",
       "</style>\n",
       "<table border=\"1\" class=\"dataframe\">\n",
       "  <thead>\n",
       "    <tr style=\"text-align: right;\">\n",
       "      <th></th>\n",
       "      <th>artist_name</th>\n",
       "      <th>song_name</th>\n",
       "      <th>recording_id</th>\n",
       "      <th>danceable</th>\n",
       "      <th>not_danceable</th>\n",
       "      <th>male</th>\n",
       "      <th>female</th>\n",
       "      <th>timbre_bright</th>\n",
       "      <th>timbre_dark</th>\n",
       "      <th>tonal</th>\n",
       "      <th>...</th>\n",
       "      <th>spotify_url</th>\n",
       "      <th>album_name</th>\n",
       "      <th>album_release_date</th>\n",
       "      <th>duration_ms</th>\n",
       "      <th>popularity</th>\n",
       "      <th>language</th>\n",
       "      <th>playlist_ids</th>\n",
       "      <th>playlists_names</th>\n",
       "      <th>combined_genres</th>\n",
       "      <th>processed_lyrics</th>\n",
       "    </tr>\n",
       "  </thead>\n",
       "  <tbody>\n",
       "  </tbody>\n",
       "</table>\n",
       "<p>0 rows × 84 columns</p>\n",
       "</div>"
      ],
      "text/plain": [
       "Empty DataFrame\n",
       "Columns: [artist_name, song_name, recording_id, danceable, not_danceable, male, female, timbre_bright, timbre_dark, tonal, atonal, instrumental, voice, dortmund_alternative, dortmund_blues, dortmund_electronic, dortmund_folkcountry, dortmund_funksoulrnb, dortmund_jazz, dortmund_pop, dortmund_raphiphop, dortmund_rock, electronic_ambient, electronic_dnb, electronic_house, electronic_techno, electronic_trance, rosamerica_cla, rosamerica_dan, rosamerica_hip, rosamerica_jaz, rosamerica_pop, rosamerica_rhy, rosamerica_roc, rosamerica_spe, tzanetakis_blu, tzanetakis_cla, tzanetakis_cou, tzanetakis_dis, tzanetakis_hip, tzanetakis_jaz, tzanetakis_met, tzanetakis_pop, tzanetakis_reg, tzanetakis_roc, ismir04_rhythm_ChaChaCha, ismir04_rhythm_Jive, ismir04_rhythm_Quickstep, ismir04_rhythm_Rumba-American, ismir04_rhythm_Rumba-International, ismir04_rhythm_Rumba-Misc, ismir04_rhythm_Samba, ismir04_rhythm_Tango, ismir04_rhythm_VienneseWaltz, ismir04_rhythm_Waltz, mood_acoustic, mood_not_acoustic, mood_aggressive, mood_not_aggressive, mood_electronic, mood_not_electronic, mood_happy, mood_not_happy, mood_party, mood_not_party, mood_relaxed, mood_not_relaxed, mood_sad, mood_not_sad, mood_mirex1, mood_mirex2, mood_mirex3, mood_mirex4, mood_mirex5, spotify_url, album_name, album_release_date, duration_ms, popularity, language, playlist_ids, playlists_names, combined_genres, processed_lyrics]\n",
       "Index: []\n",
       "\n",
       "[0 rows x 84 columns]"
      ]
     },
     "execution_count": 9,
     "metadata": {},
     "output_type": "execute_result"
    }
   ],
   "source": [
    "import pandas as pd\n",
    "\n",
    "# 📌 Rutas de los archivos\n",
    "errores_file = r\"C:\\Users\\solan\\Downloads\\get_data_from_songs\\src\\errores_canciones.csv\"\n",
    "correcciones_file = r\"C:\\Users\\solan\\Downloads\\get_data_from_songs\\src\\errores_canciones_corregidos.csv\"\n",
    "\n",
    "# 📌 Cargar errores\n",
    "df_errores = pd.read_csv(errores_file)\n",
    "\n",
    "# 📌 Verificar si ya existe un archivo con correcciones previas\n",
    "try:\n",
    "    df_corregidos = pd.read_csv(correcciones_file)\n",
    "    corregidos_ids = set(df_corregidos[\"recording_id\"])\n",
    "    print(f\"📌 Se encontraron {len(corregidos_ids)} correcciones previas.\")\n",
    "except FileNotFoundError:\n",
    "    df_corregidos = pd.DataFrame(columns=df_errores.columns)\n",
    "    corregidos_ids = set()\n",
    "\n",
    "# 📌 Filtrar solo las canciones aún no corregidas\n",
    "df_pendientes = df_errores[~df_errores[\"recording_id\"].isin(corregidos_ids)]\n",
    "\n",
    "# 📌 Mostrar las primeras filas de los errores\n",
    "df_pendientes.head(10)\n"
   ]
  },
  {
   "cell_type": "code",
   "execution_count": null,
   "metadata": {},
   "outputs": [
    {
     "data": {
      "application/vnd.jupyter.widget-view+json": {
       "model_id": "fdd9f737a1ef4d6d9e1b3a8dea8bd2f0",
       "version_major": 2,
       "version_minor": 0
      },
      "text/plain": [
       "Dropdown(description='Canción:', layout=Layout(width='80%'), options=(('death graduates - the octopus project …"
      ]
     },
     "metadata": {},
     "output_type": "display_data"
    },
    {
     "data": {
      "application/vnd.jupyter.widget-view+json": {
       "model_id": "154b382a718a4a908fd16c5ff00bbbf5",
       "version_major": 2,
       "version_minor": 0
      },
      "text/plain": [
       "Output()"
      ]
     },
     "metadata": {},
     "output_type": "display_data"
    },
    {
     "data": {
      "application/vnd.jupyter.widget-view+json": {
       "model_id": "1986a3979b6343efb11628130ef9b0af",
       "version_major": 2,
       "version_minor": 0
      },
      "text/plain": [
       "Text(value='', description='Nueva URL:', placeholder='Introduce la URL corregida (opcional)')"
      ]
     },
     "metadata": {},
     "output_type": "display_data"
    },
    {
     "data": {
      "application/vnd.jupyter.widget-view+json": {
       "model_id": "5f1665c76c1f4cfe81cfabc0469b78a3",
       "version_major": 2,
       "version_minor": 0
      },
      "text/plain": [
       "Textarea(value='', description='Letra corregida:', layout=Layout(height='200px', width='100%'), placeholder='I…"
      ]
     },
     "metadata": {},
     "output_type": "display_data"
    },
    {
     "data": {
      "application/vnd.jupyter.widget-view+json": {
       "model_id": "500e5a46dc7f47c39b0cdb0f0426bfcc",
       "version_major": 2,
       "version_minor": 0
      },
      "text/plain": [
       "Button(button_style='success', description='Guardar Corrección', style=ButtonStyle())"
      ]
     },
     "metadata": {},
     "output_type": "display_data"
    },
    {
     "data": {
      "application/vnd.jupyter.widget-view+json": {
       "model_id": "f5bf6f31b8b84c369954e7d0fa8514f2",
       "version_major": 2,
       "version_minor": 0
      },
      "text/plain": [
       "Output()"
      ]
     },
     "metadata": {},
     "output_type": "display_data"
    }
   ],
   "source": [
    "import ipywidgets as widgets\n",
    "from IPython.display import display, clear_output\n",
    "\n",
    "# 📌 Función para corregir errores con más contexto\n",
    "def corregir_errores():\n",
    "    global df_pendientes, df_corregidos  # Asegura acceso a los DataFrames\n",
    "\n",
    "    # 📌 Dropdown para seleccionar canción por ID\n",
    "    dropdown_id = widgets.Dropdown(\n",
    "        options=[(f\"{row['song_name']} - {row['artist_name']} ({row['recording_id']})\", row[\"recording_id\"]) \n",
    "                 for _, row in df_pendientes.iterrows()],\n",
    "        description=\"Canción:\",\n",
    "        disabled=False,\n",
    "        layout=widgets.Layout(width=\"80%\")\n",
    "    )\n",
    "\n",
    "    # 📌 Cuadro para mostrar detalles de la canción seleccionada\n",
    "    song_info = widgets.Output()\n",
    "\n",
    "    def update_song_info(change):\n",
    "        with song_info:\n",
    "            clear_output()\n",
    "            song_id = change.new\n",
    "            selected_song = df_pendientes[df_pendientes[\"recording_id\"] == song_id].iloc[0]\n",
    "            print(f\"🎵 **Canción:** {selected_song['song_name']}\")\n",
    "            print(f\"🎤 **Artista:** {selected_song['artist_name']}\")\n",
    "            print(f\"🔗 **URL Actual:** {selected_song['spotify_url']}\")\n",
    "            print(\"\\n📜 **Letra Original (Primeros 500 caracteres):**\")\n",
    "            print(selected_song['processed_lyrics'][:500] + \"...\" if isinstance(selected_song['processed_lyrics'], str) else \"Letra no disponible\")\n",
    "\n",
    "    dropdown_id.observe(update_song_info, names=\"value\")\n",
    "\n",
    "    input_url = widgets.Text(\n",
    "        description=\"Nueva URL:\",\n",
    "        placeholder=\"Introduce la URL corregida (opcional)\"\n",
    "    )\n",
    "\n",
    "    input_lyrics = widgets.Textarea(\n",
    "        description=\"Letra corregida:\",\n",
    "        placeholder=\"Introduce la letra corregida\",\n",
    "        layout=widgets.Layout(width='100%', height='200px')\n",
    "    )\n",
    "\n",
    "    save_button = widgets.Button(description=\"Guardar Corrección\", button_style=\"success\")\n",
    "    output = widgets.Output()\n",
    "\n",
    "    def save_correction(b):\n",
    "        with output:\n",
    "            output.clear_output()\n",
    "            song_id = dropdown_id.value\n",
    "            new_url = input_url.value.strip()\n",
    "            new_lyrics = input_lyrics.value.strip()\n",
    "\n",
    "            # 📌 Eliminar saltos de línea en la letra corregida\n",
    "            new_lyrics = \" \".join(new_lyrics.splitlines())\n",
    "\n",
    "            # 📌 Obtener la fila de la canción seleccionada\n",
    "            row = df_pendientes[df_pendientes[\"recording_id\"] == song_id].iloc[0]\n",
    "\n",
    "            # 📌 Aplicar correcciones si el usuario ingresó algo\n",
    "            if new_url:\n",
    "                row[\"spotify_url\"] = new_url\n",
    "            if new_lyrics:\n",
    "                row[\"processed_lyrics\"] = new_lyrics  # 🔥 Se guarda sin saltos de línea\n",
    "\n",
    "            # 📌 Guardar en el DataFrame corregido\n",
    "            global df_corregidos\n",
    "            df_corregidos = pd.concat([df_corregidos, row.to_frame().T], ignore_index=True)\n",
    "\n",
    "            # 📌 Guardar progresivamente para no perder cambios\n",
    "            df_corregidos.to_csv(correcciones_file, index=False)\n",
    "\n",
    "            print(f\"✅ Canción '{row['song_name']}' corregida y guardada sin saltos de línea.\")\n",
    "\n",
    "    save_button.on_click(save_correction)\n",
    "\n",
    "    display(dropdown_id, song_info, input_url, input_lyrics, save_button, output)\n",
    "\n",
    "# 🔥 Ejecutar la función para comenzar\n",
    "corregir_errores()\n"
   ]
  }
 ],
 "metadata": {
  "kernelspec": {
   "display_name": "Python 3",
   "language": "python",
   "name": "python3"
  },
  "language_info": {
   "codemirror_mode": {
    "name": "ipython",
    "version": 3
   },
   "file_extension": ".py",
   "mimetype": "text/x-python",
   "name": "python",
   "nbconvert_exporter": "python",
   "pygments_lexer": "ipython3",
   "version": "3.11.9"
  }
 },
 "nbformat": 4,
 "nbformat_minor": 2
}
