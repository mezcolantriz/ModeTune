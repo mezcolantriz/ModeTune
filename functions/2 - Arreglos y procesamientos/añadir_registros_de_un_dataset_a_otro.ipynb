{
 "cells": [
  {
   "cell_type": "code",
   "execution_count": null,
   "metadata": {},
   "outputs": [],
   "source": [
    "import pandas as pd\n",
    "from typing import List"
   ]
  },
  {
   "cell_type": "markdown",
   "metadata": {},
   "source": [
    "# Ejemplo de uso de la función para añadir a un dataset A a los registros de un dataset B que no existan ya en A\n",
    "\n",
    "`dataset_a = pd.read_csv('ruta_a_dataset_a.csv')`\n",
    "\n",
    "`dataset_b = pd.read_csv('ruta_a_dataset_b.csv')`\n",
    "\n",
    "<h4>Comparación por 'song_name' y 'artist_name'</h4>\n",
    "\n",
    "`updated_dataset_a = add_unique_records(dataset_a, dataset_b, key_columns=['song_name', 'artist_name'])`\n",
    "\n",
    "<h4>Comparación por 'recording_id'</h4>\n",
    "\n",
    "`updated_dataset_a = add_unique_records(dataset_a, dataset_b, key_columns=['recording_id'])`\n",
    "\n",
    "`print(f\"Número total de registros en el dataset actualizado: {len(updated_dataset_a)}\")`"
   ]
  },
  {
   "cell_type": "markdown",
   "metadata": {},
   "source": [
    "# Función para añadir a un dataset A a los registros de un dataset B que no existan ya en A"
   ]
  },
  {
   "cell_type": "code",
   "execution_count": null,
   "metadata": {},
   "outputs": [],
   "source": [
    "def add_unique_records(dataset_a: pd.DataFrame, dataset_b: pd.DataFrame, key_columns: List[str]) -> pd.DataFrame:\n",
    "    if not all(column in dataset_a.columns for column in key_columns):\n",
    "        raise ValueError(\"Algunas columnas clave no están presentes en dataset_a.\")\n",
    "    if not all(column in dataset_b.columns for column in key_columns):\n",
    "        raise ValueError(\"Algunas columnas clave no están presentes en dataset_b.\")\n",
    "\n",
    "    # Crear un DataFrame de comparación solo con las columnas clave\n",
    "    a_subset = dataset_a[key_columns]\n",
    "    b_subset = dataset_b[key_columns]\n",
    "\n",
    "    # Identificar los registros únicos en B que no están en A\n",
    "    unique_to_b = ~b_subset.apply(tuple, axis=1).isin(a_subset.apply(tuple, axis=1))\n",
    "\n",
    "    # Filtrar los registros únicos de B\n",
    "    unique_records = dataset_b[unique_to_b]\n",
    "\n",
    "    # Concatenar los registros únicos al dataset A\n",
    "    updated_dataset_a = pd.concat([dataset_a, unique_records], ignore_index=True)\n",
    "\n",
    "    return updated_dataset_a\n"
   ]
  },
  {
   "cell_type": "markdown",
   "metadata": {},
   "source": [
    "# Comparar datasets por la columna `recording_id`"
   ]
  },
  {
   "cell_type": "code",
   "execution_count": null,
   "metadata": {},
   "outputs": [],
   "source": [
    "df_A = pd.read_csv('ruta_a_tu_csv_A.csv')\n",
    "df_B = pd.read_csv('ruta_a_tu_csv_B.csv')"
   ]
  },
  {
   "cell_type": "code",
   "execution_count": null,
   "metadata": {},
   "outputs": [],
   "source": [
    "updated_dataset_a = add_unique_records(df_A, df_B, key_columns=['recording_id'])\n",
    "\n",
    "print(f\"Número total de registros en el dataset actualizado: {len(updated_dataset_a)}\")"
   ]
  }
 ],
 "metadata": {
  "kernelspec": {
   "display_name": "Python 3",
   "language": "python",
   "name": "python3"
  },
  "language_info": {
   "name": "python",
   "version": "3.11.9"
  }
 },
 "nbformat": 4,
 "nbformat_minor": 2
}
