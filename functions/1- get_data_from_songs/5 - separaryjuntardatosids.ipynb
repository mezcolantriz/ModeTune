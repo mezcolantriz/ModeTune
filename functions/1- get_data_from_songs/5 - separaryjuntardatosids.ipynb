{
 "cells": [
  {
   "cell_type": "markdown",
   "metadata": {},
   "source": [
    "Este es un ejemplo del tipo de código que hemos usado para juntar con con los originales todos los datos obtenidos y pasarlo al final (antes del de las playlist) - \n",
    "  \n",
    "Realmente hemos tenido distintos códigos parecidos adecuándonos al problema, tanto para separar como para juntar y encontrar errores que se puedan dar,\n",
    "al ser distintos pero con el mismo propósito hemos optado por poner uno de ejemplo."
   ]
  },
  {
   "cell_type": "code",
   "execution_count": 1,
   "metadata": {},
   "outputs": [
    {
     "name": "stdout",
     "output_type": "stream",
     "text": [
      "Archivo final actualizado guardado en: C:\\Users\\solan\\Downloads\\get_data_from_songs\\data\\raw\\limpios_bea2.csv\n",
      "   artist_name              song_name                          recording_id  \\\n",
      "0  the horrors       little victories  219ad752-682f-4f67-8bb3-4bea271d7552   \n",
      "1  the horrors   she is the new thing  e00765a0-ffa8-480b-bd7d-5a9a13d4be2b   \n",
      "2  the horrors           thunderclaps  d3de84ba-ad15-4530-902c-0a608eb72297   \n",
      "3         tryo  désolé pour hier soir  ed2d59b7-4131-43c9-8291-0436b9a6c796   \n",
      "4    alborosie              diversity  1f57aafc-ebe1-49d0-acb0-1c8a420c67e2   \n",
      "\n",
      "   danceable  not_danceable   male  female  timbre_bright  timbre_dark  tonal  \\\n",
      "0      0.014          0.986  0.212   0.788          0.034        0.966  0.003   \n",
      "1      0.467          0.533  0.024   0.976          0.239        0.761  0.009   \n",
      "2      0.991          0.009  0.244   0.756          0.072        0.928  0.037   \n",
      "3      0.844          0.156  0.355   0.645          0.036        0.964  0.584   \n",
      "4      1.000          0.000  0.075   0.925          0.914        0.086  0.020   \n",
      "\n",
      "   ...      album_name  album_release_date  duration_ms  popularity  \\\n",
      "0  ...   Strange House          2007-01-01     159933.0        12.0   \n",
      "1  ...   Strange House          2007-01-01     200973.0        26.0   \n",
      "2  ...   Strange House          2007-01-01     185840.0        10.0   \n",
      "3  ...  Grain de sable          2003-06-02     219960.0        56.0   \n",
      "4  ...     Soul Pirate          2008-01-01     249666.0        42.0   \n",
      "\n",
      "                                              genres  \\\n",
      "0  Garage Rock, indie, seen live, horror punk, br...   \n",
      "1  Garage Rock, indie, seen live, horror punk, br...   \n",
      "2  Garage Rock, indie, seen live, horror punk, br...   \n",
      "3  reggae, french, chanson francaise, acoustic, f...   \n",
      "4   reggae, dancehall, new roots, italian, seen live   \n",
      "\n",
      "                                                tags  year  views  \\\n",
      "0     Garage Rock, indie, horror punk, rock, british  2007    409   \n",
      "1     Garage Rock, indie, british, punk, horror punk  2007   1319   \n",
      "2  Garage Rock, indie, horror punk, post-punk, Ga...  2007    274   \n",
      "3  reggae, french, chanson francaise, francais, Tryo  2003  15534   \n",
      "4              reggae, 6 of 10 stars, fon, alborosie  2008   3828   \n",
      "\n",
      "                                              lyrics  language  \n",
      "0  [Verse 1] I press your hand in mine however ca...        en  \n",
      "1  [Verse 1] She's a special girl, you know The k...        en  \n",
      "2  [Verse 1] Watch them speak in thunderclaps No ...        en  \n",
      "3  [Paroles de \"Désolé pour hier soir\"]  [Couplet...        fr  \n",
      "4  [Intro: Alborosie] This is for my people Oh my...        en  \n",
      "\n",
      "[5 rows x 91 columns] (17145, 91)\n"
     ]
    }
   ],
   "source": [
    "import pandas as pd\n",
    "import os\n",
    "\n",
    "# Rutas de los archivos\n",
    "genius_file = r\"C:\\Users\\solan\\Downloads\\get_data_from_songs\\data\\processed\\split_files\\part1_5000\\genius_songs_part_20.csv\"\n",
    "spoty_file = r\"C:\\Users\\solan\\Downloads\\get_data_from_songs\\data\\ok\\20_spoty_last.csv\"\n",
    "final_output_path = r\"C:\\Users\\solan\\Downloads\\get_data_from_songs\\data\\raw\\limpios_bea2.csv\"\n",
    "\n",
    "# Cargar los nuevos archivos\n",
    "genius_df = pd.read_csv(genius_file)\n",
    "spoty_df = pd.read_csv(spoty_file)\n",
    "\n",
    "# Limpiar saltos de línea en las letras\n",
    "genius_df['lyrics'] = genius_df['lyrics'].str.replace(r'\\n', ' ', regex=True)\n",
    "\n",
    "# Normalizar las columnas para evitar problemas de formato\n",
    "genius_df['artist_name'] = genius_df['artist_name'].str.strip().str.lower()\n",
    "genius_df['song_name'] = genius_df['song_name'].str.strip().str.lower()\n",
    "spoty_df['artist_name'] = spoty_df['artist_name'].str.strip().str.lower()\n",
    "spoty_df['song_name'] = spoty_df['song_name'].str.strip().str.lower()\n",
    "\n",
    "# Realizar la unión manteniendo solo las coincidencias exactas\n",
    "merged_df = pd.merge(\n",
    "    spoty_df, genius_df, \n",
    "    on=['artist_name', 'song_name'], \n",
    "    how='inner'\n",
    ")\n",
    "\n",
    "# Cargar el archivo final existente si existe\n",
    "if os.path.exists(final_output_path):\n",
    "    final_df = pd.read_csv(final_output_path)\n",
    "    # Concatenar los datos nuevos con los existentes\n",
    "    merged_df = pd.concat([final_df, merged_df], ignore_index=True)\n",
    "    # Eliminar duplicados\n",
    "    merged_df = merged_df.drop_duplicates(subset=['artist_name', 'song_name'])\n",
    "\n",
    "# Guardar el resultado en un archivo final\n",
    "merged_df.to_csv(final_output_path, index=False)\n",
    "\n",
    "# Mostrar un resumen de los resultados\n",
    "print(f\"Archivo final actualizado guardado en: {final_output_path}\")\n",
    "print(merged_df.head(), merged_df.shape)\n"
   ]
  }
 ],
 "metadata": {
  "kernelspec": {
   "display_name": "Python 3",
   "language": "python",
   "name": "python3"
  },
  "language_info": {
   "codemirror_mode": {
    "name": "ipython",
    "version": 3
   },
   "file_extension": ".py",
   "mimetype": "text/x-python",
   "name": "python",
   "nbconvert_exporter": "python",
   "pygments_lexer": "ipython3",
   "version": "3.11.9"
  }
 },
 "nbformat": 4,
 "nbformat_minor": 2
}
