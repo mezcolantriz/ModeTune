{
 "cells": [
  {
   "cell_type": "markdown",
   "metadata": {},
   "source": [
    "# Dataset"
   ]
  },
  {
   "cell_type": "markdown",
   "metadata": {},
   "source": [
    "#### Datos base usados para obtener el resto\n",
    "\n",
    "| Column Name  | Data Type | Example Value           |\n",
    "|-------------|----------|-------------------------|\n",
    "| artist_name | STRING   | anthony hamilton       |\n",
    "| song_name   | STRING   | change your world      |\n"
   ]
  },
  {
   "cell_type": "markdown",
   "metadata": {},
   "source": [
    "##### RecordingId obtenido de [MusicBrainz](https://musicbrainz.org/) para poder hacer peticiones a la API de AcousticBrainz\n",
    "\n",
    "| Dato                               | Tipo                           | Valor de ejemplo |\n",
    "|------------------------------------|--------------------------------|--------------:|\n",
    "| recording_id\t                     | STRING                         |  00012f9d-8397-4a51-8fd5-027d3b5ccd62 |"
   ]
  },
  {
   "cell_type": "markdown",
   "metadata": {},
   "source": [
    "##### Datos obtenidos de [AcousticBrainz](https://acousticbrainz.org/)\n",
    "\n",
    "| Dato                               | Tipo                           | Valor de ejemplo |\n",
    "|------------------------------------|--------------------------------|--------------:|\n",
    "| danceable                          | FLOAT (percentage/probability) |         0.811 |\n",
    "| not_danceable                      | FLOAT (percentage/probability) |         0.189 |\n",
    "| male                               | FLOAT (percentage/probability) |         0.352 |\n",
    "| female                             | FLOAT (percentage/probability) |         0.648 |\n",
    "| timbre_bright                      | FLOAT (percentage/probability) |         0.921 |\n",
    "| timbre_dark                        | FLOAT (percentage/probability) |         0.079 |\n",
    "| tonal                              | FLOAT (percentage/probability) |         0.249 |\n",
    "| atonal                             | FLOAT (percentage/probability) |         0.751 |\n",
    "| instrumental                       | FLOAT (percentage/probability) |         0.107 |\n",
    "| voice                              | FLOAT (percentage/probability) |         0.893 |\n",
    "| dortmund_alternative               | FLOAT (percentage/probability) |         0.002 |\n",
    "| dortmund_blues                     | FLOAT (percentage/probability) |         0.000 |\n",
    "| dortmund_electronic                | FLOAT (percentage/probability) |         0.997 |\n",
    "| dortmund_folkcountry               | FLOAT (percentage/probability) |         0.001 |\n",
    "| dortmund_funksoulrnb               | FLOAT (percentage/probability) |         0.000 |\n",
    "| dortmund_jazz                      | FLOAT (percentage/probability) |         0.000 |\n",
    "| dortmund_pop                       | FLOAT (percentage/probability) |         0.000 |\n",
    "| dortmund_raphiphop                 | FLOAT (percentage/probability) |         0.000 |\n",
    "| dortmund_rock                      | FLOAT (percentage/probability) |         0.000 |\n",
    "| electronic_ambient                 | FLOAT (percentage/probability) |         0.419 |\n",
    "| electronic_dnb                     | FLOAT (percentage/probability) |         0.012 |\n",
    "| electronic_house                   | FLOAT (percentage/probability) |         0.327 |\n",
    "| electronic_techno                  | FLOAT (percentage/probability) |         0.031 |\n",
    "| electronic_trance                  | FLOAT (percentage/probability) |         0.211 |\n",
    "| rosamerica_cla                     | FLOAT (percentage/probability) |         0.009 |\n",
    "| rosamerica_dan                     | FLOAT (percentage/probability) |         0.033 |\n",
    "| rosamerica_hip                     | FLOAT (percentage/probability) |         0.024 |\n",
    "| rosamerica_jaz                     | FLOAT (percentage/probability) |         0.088 |\n",
    "| rosamerica_pop                     | FLOAT (percentage/probability) |         0.387 |\n",
    "| rosamerica_rhy                     | FLOAT (percentage/probability) |         0.411 |\n",
    "| rosamerica_roc                     | FLOAT (percentage/probability) |         0.040 |\n",
    "| rosamerica_spe                     | FLOAT (percentage/probability) |         0.007 |\n",
    "| tzanetakis_blu                     | FLOAT (percentage/probability) |         0.063 |\n",
    "| tzanetakis_cla                     | FLOAT (percentage/probability) |         0.035 |\n",
    "| tzanetakis_cou                     | FLOAT (percentage/probability) |         0.078 |\n",
    "| tzanetakis_dis                     | FLOAT (percentage/probability) |         0.105 |\n",
    "| tzanetakis_hip                     | FLOAT (percentage/probability) |         0.157 |\n",
    "| tzanetakis_jaz                     | FLOAT (percentage/probability) |         0.314 |\n",
    "| tzanetakis_met                     | FLOAT (percentage/probability) |         0.045 |\n",
    "| tzanetakis_pop                     | FLOAT (percentage/probability) |         0.063 |\n",
    "| tzanetakis_reg                     | FLOAT (percentage/probability) |         0.063 |\n",
    "| tzanetakis_roc                     | FLOAT (percentage/probability) |         0.078 |\n",
    "| ismir04_rhythm_ChaChaCha           | FLOAT (percentage/probability) |         0.074 |\n",
    "| ismir04_rhythm_Jive                | FLOAT (percentage/probability) |         0.039 |\n",
    "| ismir04_rhythm_Quickstep           | FLOAT (percentage/probability) |         0.008 |\n",
    "| ismir04_rhythm_Rumba-American      | FLOAT (percentage/probability) |         0.017 |\n",
    "| ismir04_rhythm_Rumba-International | FLOAT (percentage/probability) |         0.022 |\n",
    "| ismir04_rhythm_Rumba-Misc          | FLOAT (percentage/probability) |         0.021 |\n",
    "| ismir04_rhythm_Samba               | FLOAT (percentage/probability) |         0.023 |\n",
    "| ismir04_rhythm_Tango               | FLOAT (percentage/probability) |         0.449 |\n",
    "| ismir04_rhythm_VienneseWaltz       | FLOAT (percentage/probability) |         0.341 |\n",
    "| ismir04_rhythm_Waltz               | FLOAT (percentage/probability) |         0.006 |\n",
    "| mood_acoustic                      | FLOAT (percentage/probability) |         0.580 |\n",
    "| mood_not_acoustic                  | FLOAT (percentage/probability) |         0.420 |\n",
    "| mood_aggressive                    | FLOAT (percentage/probability) |         0.025 |\n",
    "| mood_not_aggressive                | FLOAT (percentage/probability) |         0.975 |\n",
    "| mood_electronic                    | FLOAT (percentage/probability) |         0.349 |\n",
    "| mood_not_electronic                | FLOAT (percentage/probability) |         0.651 |\n",
    "| mood_happy                         | FLOAT (percentage/probability) |         0.372 |\n",
    "| mood_not_happy                     | FLOAT (percentage/probability) |         0.628 |\n",
    "| mood_party                         | FLOAT (percentage/probability) |         0.383 |\n",
    "| mood_not_party                     | FLOAT (percentage/probability) |         0.617 |\n",
    "| mood_relaxed                       | FLOAT (percentage/probability) |         0.911 |\n",
    "| mood_not_relaxed                   | FLOAT (percentage/probability) |         0.089 |\n",
    "| mood_sad                           | FLOAT (percentage/probability) |         0.361 |\n",
    "| mood_not_sad                       | FLOAT (percentage/probability) |         0.639 |\n",
    "| mood_mirex1                        | FLOAT (percentage/probability) |         0.110 |\n",
    "| mood_mirex2                        | FLOAT (percentage/probability) |         0.226 |\n",
    "| mood_mirex3                        | FLOAT (percentage/probability) |         0.193 |\n",
    "| mood_mirex4                        | FLOAT (percentage/probability) |         0.128 |\n",
    "| mood_mirex5                        | FLOAT (percentage/probability) |         0.340 |\n",
    "\n",
    "\n",
    "\n",
    "**Nota:** La sección \"moods_mirex\" se refiere a una evaluación de los estados de ánimo (moods) asociados con la pista de audio, basada en un modelo de clasificación llamado MIREX (Music Information Retrieval Evaluation eXchange). Este modelo clasifica música en clústeres de estados de ánimo predefinidos. \n",
    "\n",
    "Cada Cluster representa las probabilidades asignadas a cada uno de los clústeres de estados de ánimo (Cluster1 a Cluster5). Estos clústeres suelen agrupar canciones en categorías amplias de estados de ánimo, como:\n",
    "- Cluster1: Serenidad, calma.\n",
    "- Cluster2: Enérgico, alegre.\n",
    "- Cluster3: Melancólico, reflexivo.\n",
    "- Cluster4: Intenso, agresivo.\n",
    "- Cluster5: Sofisticado, relajado.\n",
    "\n"
   ]
  },
  {
   "cell_type": "markdown",
   "metadata": {},
   "source": [
    "##### Datos obtenidos de la API de Spotify\n",
    "\n",
    "| Column Name          | Data Type  | Example Value                                       |\n",
    "|----------------------|-----------|-----------------------------------------------------|\n",
    "| spotify_url         | STRING    | https://open.spotify.com/track/6qiH0OG98zIT8TX... |\n",
    "| album_name         | STRING    | aint nobody worryin                                |\n",
    "| album_release_date | DATE      | 2005-12-13                                        |\n",
    "| duration_ms        | FLOAT     | 280973.0                                          |\n",
    "| popularity        | FLOAT     | 26.0                                              |\n",
    "\n"
   ]
  },
  {
   "cell_type": "markdown",
   "metadata": {},
   "source": [
    "## Datos obtenidos del dataset de Million Playlist de Spotify\n",
    "\n",
    "| Column Name     | Data Type | Example Value                                     |\n",
    "|----------------|----------|----------------------------------------------------|\n",
    "| playlist_ids   | LIST     | [100309, 11213, 121167, 121483, 122735, 129910...] |\n",
    "| playlists_names | STRING   | alt country road trip friendsgiving new music ... |\n",
    "\n",
    "Lista de ids y nombres de playlists a las que pertenece cada canción\n"
   ]
  },
  {
   "cell_type": "markdown",
   "metadata": {},
   "source": [
    "# Datos obtenidos a través de las columnas genres y tags de LastFM\n",
    "\n",
    "| Column Name      | Data Type | Example Value                                    |\n",
    "|-----------------|----------|----------------------------------------------------|\n",
    "| combined_genres | STRING   | alt country, road trip, friendsgiving, new music   |\n"
   ]
  },
  {
   "cell_type": "markdown",
   "metadata": {},
   "source": [
    "# Datos obtenidos del dataset de Genius y posteriormente procesados para el buen funcionamiento del modelo\n",
    "\n",
    "| Column Name       | Data Type | Example Value                                      |\n",
    "|------------------|----------|----------------------------------------------------|\n",
    "| processed_lyrics | STRING   | id be in the hall of fame the mere mentioning ... |\n",
    "\n"
   ]
  },
  {
   "cell_type": "markdown",
   "metadata": {},
   "source": [
    "# Datos obtenidos a través de procesamiento de las letras de las canciones\n",
    "\n",
    "| Column Name | Data Type | Example Value |\n",
    "|------------|----------|--------------|\n",
    "| language   | STRING   | en           |\n"
   ]
  }
 ],
 "metadata": {
  "kernelspec": {
   "display_name": "Python 3",
   "language": "python",
   "name": "python3"
  },
  "language_info": {
   "codemirror_mode": {
    "name": "ipython",
    "version": 3
   },
   "file_extension": ".py",
   "mimetype": "text/x-python",
   "name": "python",
   "nbconvert_exporter": "python",
   "pygments_lexer": "ipython3",
   "version": "3.11.9"
  }
 },
 "nbformat": 4,
 "nbformat_minor": 2
}
